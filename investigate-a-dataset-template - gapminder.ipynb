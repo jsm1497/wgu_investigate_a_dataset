{
 "cells": [
  {
   "cell_type": "markdown",
   "metadata": {},
   "source": [
    "# Investigating Gapminder Data - Income and Life Expectancy\n",
    "\n",
    "## Table of Contents\n",
    "<ul>\n",
    "<li><a href=\"#intro\">Introduction</a></li>\n",
    "<li><a href=\"#wrangling\">Data Wrangling</a></li>\n",
    "<li><a href=\"#data_munging\">Data Munging</a></li>    \n",
    "<li><a href=\"#eda\">Exploratory Data Analysis</a></li>\n",
    "    <ul><li><a href=\"#q1\">Q1 - Does an increase in income correlate to an increase in life expectancy?</a></li>\n",
    "    <li><a href=\"#q2\">Q2 - Does a country's region have an impact on the correlation of income and life expectancy?</a></li>\n",
    "    <li><a href=\"#q3\">Q3 - Does a country's Human Development Index score have an impact on the correlation of income and life expectancy?</a></li></ul>\n",
    "<li><a href=\"#conclusions\">Conclusions</a></li>\n",
    "</ul>"
   ]
  },
  {
   "cell_type": "markdown",
   "metadata": {},
   "source": [
    "<a id='intro'></a>\n",
    "## Introduction\n",
    "\n",
    "This data analysis is going to use data from Gapminder, a Swedish \"fact tank\" that consolidates world data and makes it readily available to use and understand.\n",
    "\n",
    "This analysis will be looking at income and life expectancy, to see if there is any correlation here. After cleaning and wrangling the data, we will investigate the resulting dataset to see what correlations we can find."
   ]
  },
  {
   "cell_type": "markdown",
   "metadata": {},
   "source": [
    "<a id='wrangling'></a>\n",
    "## Data Wrangling"
   ]
  },
  {
   "cell_type": "markdown",
   "metadata": {},
   "source": [
    "* Our first step is to import all of the packages that we will use for this analysis\n",
    "    * We import matplotlib's pyplot module as plt\n",
    "    * We import numpy as np - we could import numpy indirectly because it is imported with pandas, but it wouldn't have the np alias\n",
    "    * We import pandas as pd\n",
    "    * We import seaborn - a visualization module built on matplotlib - as sns\n",
    "    * We also use the magic command %matplotlib inline to show visualizations inline\n",
    "    * We are also going to import statsmodels.api as sm - This will be used for some statistical analysis later on"
   ]
  },
  {
   "cell_type": "code",
   "execution_count": 1,
   "metadata": {},
   "outputs": [],
   "source": [
    "%matplotlib inline\n",
    "\n",
    "import matplotlib.pyplot as plt\n",
    "import matplotlib\n",
    "import numpy as np\n",
    "\n",
    "import pandas as pd\n",
    "import seaborn as sns\n",
    "import statsmodels.api as sm"
   ]
  },
  {
   "cell_type": "markdown",
   "metadata": {},
   "source": [
    "* Next we will bring in all of our data\n",
    "* This data is from Gapminder, and we are focusing on the correlation of income and life expectancy.\n",
    "* The data sets we are bringing in are:\n",
    "    * income - GDP per capita, constant PPP (purchasing power parity) dollars\n",
    "        * The link for this is __[here](http://gapm.io/dgdppc)__\n",
    "    * life_expect - life expectancy at birth\n",
    "        * The link for this is __[here](http://gapm.io/ilex)__\n",
    "    * hdi - Human Development Index\n",
    "        * The link for this is __[here](http://hdrstats.undp.org/en/indicators/103106.html)__\n",
    "        * Note - the link is currently giving me a DNS error - I am unsure if the link is dead or currently down\n",
    "    * geo - This is Gapminder's geography dataset - it adds additional dimensions to the country, such as region, world back income level, etc\n",
    "        * The link for this is __[here](https://www.gapminder.org/data/geo/)__\n",
    "        * Note - this is the only dataset that we have modified before loading - the \"list-of-countries-etc\" sheet in the Excel file was saved as a csv for easy importing into this notebook"
   ]
  },
  {
   "cell_type": "code",
   "execution_count": 2,
   "metadata": {},
   "outputs": [],
   "source": [
    "income = pd.read_csv(r\"C:\\Users\\jcsmi329\\Documents\\Homework\\Udacity\\Projects\\Investigate a Dataset\\income_per_person_gdppercapita_ppp_inflation_adjusted.csv\")\n",
    "life_expect = pd.read_csv(r\"C:\\Users\\jcsmi329\\Documents\\Homework\\Udacity\\Projects\\Investigate a Dataset\\life_expectancy_years.csv\")\n",
    "hdi = pd.read_csv(r\"C:\\Users\\jcsmi329\\Documents\\Homework\\Udacity\\Projects\\Investigate a Dataset\\hdi_human_development_index.csv\")\n",
    "geo = pd.read_csv(r\"C:\\Users\\jcsmi329\\Documents\\Homework\\Udacity\\Projects\\Investigate a Dataset\\gapminder_geo.csv\")"
   ]
  },
  {
   "cell_type": "markdown",
   "metadata": {},
   "source": [
    "<a id='data_munging'></a>\n",
    "### Data munging"
   ]
  },
  {
   "cell_type": "markdown",
   "metadata": {},
   "source": [
    "* We need to get our data from multiple dataframes into one dataframe that has columns for each indicator value"
   ]
  },
  {
   "cell_type": "markdown",
   "metadata": {},
   "source": [
    "* Our geography dataset has columns that we will not be using, so we are going to drop those\n",
    "* This will leave the following columns\n",
    "    * four_regions, eight_regions, and World bank income group 2017\n",
    "    * We rename the world bank income group to something easier to work with - wb_income_2017"
   ]
  },
  {
   "cell_type": "code",
   "execution_count": 3,
   "metadata": {},
   "outputs": [],
   "source": [
    "geo.drop(['geo','six_regions','Latitude','Longitude','UN member since','World bank region','members_oecd_g77'], axis = 1, inplace = True)\n",
    "geo.rename(index = str, columns = {'World bank income group 2017':'wb_income_2017'}, inplace = True)"
   ]
  },
  {
   "cell_type": "markdown",
   "metadata": {},
   "source": [
    "* The columns in these datasets are years, so we need to check the ranges of the years to see where they overlap\n",
    "* There are many ways to do this, but we will use iloc to print out a list of columns  by index location\n",
    "* This was recommended by __[this stackoverflow post](https://stackoverflow.com/questions/42632029/how-to-use-python-to-select-first-x-columns-and-last-y-columns)__"
   ]
  },
  {
   "cell_type": "code",
   "execution_count": 4,
   "metadata": {},
   "outputs": [
    {
     "name": "stdout",
     "output_type": "stream",
     "text": [
      "Empty DataFrame\n",
      "Columns: [country, 1800, 2040]\n",
      "Index: [] \n",
      " Empty DataFrame\n",
      "Columns: [country, 1990, 2015]\n",
      "Index: [] \n",
      " Empty DataFrame\n",
      "Columns: [country, 1800, 2018]\n",
      "Index: []\n"
     ]
    }
   ],
   "source": [
    "print(income.iloc[0:0,[0,1]+[-1]],'\\n',\n",
    "hdi.iloc[0:0,[0,1]+[-1]],'\\n',\n",
    "life_expect.iloc[0:0,[0,1]+[-1]])"
   ]
  },
  {
   "cell_type": "markdown",
   "metadata": {},
   "source": [
    "* The indicator data sets contain data for many years, but we are going to focus on only the most recent year included in all datasets\n",
    "* To do this, we create a list that contains the columns we want to keep, and we use the filter function on the dataframes to filter to just these columns\n",
    "* Since we saw above that 2015 was the latest year that was in all of the datasets, we will use filter to just the country and the year 2015"
   ]
  },
  {
   "cell_type": "code",
   "execution_count": 5,
   "metadata": {},
   "outputs": [],
   "source": [
    "col_list = ['country','2015']\n",
    "\n",
    "income = income.filter(col_list)\n",
    "hdi = hdi.filter(col_list)\n",
    "life_expect = life_expect.filter(col_list)"
   ]
  },
  {
   "cell_type": "markdown",
   "metadata": {},
   "source": [
    "* We set the indexes of the datasets, as they are currently just numbered"
   ]
  },
  {
   "cell_type": "code",
   "execution_count": 6,
   "metadata": {},
   "outputs": [],
   "source": [
    "income.set_index('country', inplace = True)\n",
    "hdi.set_index('country', inplace = True)\n",
    "life_expect.set_index('country', inplace = True)\n",
    "geo = geo.set_index('name', True)\n",
    "geo.index.names = ['country']"
   ]
  },
  {
   "cell_type": "markdown",
   "metadata": {},
   "source": [
    "* We need to move the year down to be values in a column instead of being a header, for all of the indicator datasets\n",
    "* We also need to rename the remaining column to match the indicator\n",
    "* After trial and error, the below will do all of this in one line for each \n",
    "* If this were to be production level code, we would likely want to wrap this in a function call, but that is overkill to replace just three lines of code"
   ]
  },
  {
   "cell_type": "code",
   "execution_count": 7,
   "metadata": {},
   "outputs": [],
   "source": [
    "income = income.stack(0).reset_index(level = 1).rename(index = str, columns = {'level_1':'year',0:'income'})\n",
    "hdi = hdi.stack(0).reset_index(level = 1).rename(index = str, columns = {'level_1':'year',0:'hdi'})\n",
    "life_expect = life_expect.stack(0).reset_index(level = 1).rename(index = str, columns = {'level_1':'year',0:'life_expect'})"
   ]
  },
  {
   "cell_type": "markdown",
   "metadata": {},
   "source": [
    "* We now need to join our dataframes into one dataframe that contains all of the indicator values\n",
    "* To do this we will use the pandas merge function, and we will join on both the column year and the index, as the index is shared by all dataframes\n",
    "* We use the inner join to ensure that we only include data that is included in all datasets"
   ]
  },
  {
   "cell_type": "code",
   "execution_count": 8,
   "metadata": {},
   "outputs": [],
   "source": [
    "df = pd.merge(income, hdi, how = 'inner', on = 'year',left_index = True, right_index = True, sort = True)\n",
    "df = pd.merge(df, life_expect, how = 'inner', on = 'year',left_index = True, right_index = True, sort = True)\n",
    "df = pd.merge(df, geo, how = 'inner', left_index = True, right_index = True, sort = True)"
   ]
  },
  {
   "cell_type": "markdown",
   "metadata": {},
   "source": [
    "* We sort the values, because the labels on the plots will correspond to how the values are sorted"
   ]
  },
  {
   "cell_type": "code",
   "execution_count": 9,
   "metadata": {},
   "outputs": [],
   "source": [
    "df.sort_values(['four_regions','eight_regions'], inplace = True)"
   ]
  },
  {
   "cell_type": "markdown",
   "metadata": {},
   "source": [
    "* We drop NaNs because we need to be able to plot all values\n",
    "* We round hdi and life expectancy to allow them to be used more easily for hue and other categorical uses"
   ]
  },
  {
   "cell_type": "code",
   "execution_count": 10,
   "metadata": {},
   "outputs": [],
   "source": [
    "df.dropna(inplace = True)\n",
    "\n",
    "df.hdi = round(df.hdi, 1)\n",
    "\n",
    "df.life_expect = round(df.life_expect,0)"
   ]
  },
  {
   "cell_type": "markdown",
   "metadata": {},
   "source": [
    "* We add a column that converts the world bank income value to a number\n",
    "* Hopefully this will be useful for categorizing income when we do not want to use the actual income figures, we will have to check this\n",
    "* We are going to convert the regions into category codes as well - this may or may not be useful later"
   ]
  },
  {
   "cell_type": "code",
   "execution_count": 11,
   "metadata": {},
   "outputs": [
    {
     "name": "stderr",
     "output_type": "stream",
     "text": [
      "C:\\Users\\jcsmi329\\AppData\\Local\\Continuum\\miniconda3\\lib\\site-packages\\ipykernel_launcher.py:7: FutureWarning: specifying 'categories' or 'ordered' in .astype() is deprecated; pass a CategoricalDtype instead\n",
      "  import sys\n"
     ]
    }
   ],
   "source": [
    "#creating ordered category codes http://benalexkeen.com/mapping-categorical-data-in-pandas/\n",
    "\n",
    "ordered_incomes = ['Low income', 'Lower middle income', 'Upper middle income', 'High income']\n",
    "\n",
    "df['wb_code'] = df.wb_income_2017.astype(\"category\",\n",
    "  ordered=True,\n",
    "  categories=ordered_incomes\n",
    ").cat.codes"
   ]
  },
  {
   "cell_type": "code",
   "execution_count": 12,
   "metadata": {},
   "outputs": [],
   "source": [
    "#category codes http://benalexkeen.com/mapping-categorical-data-in-pandas/\n",
    "\n",
    "df['four_regions_code'] = df.four_regions.astype(\"category\").cat.codes\n",
    "\n",
    "df['eight_regions_code'] = df.eight_regions.astype(\"category\").cat.codes"
   ]
  },
  {
   "cell_type": "markdown",
   "metadata": {},
   "source": [
    "##### Let's use the describe function to see view some statistics about our dataset as a whole"
   ]
  },
  {
   "cell_type": "markdown",
   "metadata": {},
   "source": [
    "* We can see that all of the columns have a count of 184, which is good - all of our records have data for all of the indicators\n",
    "* Another thing that jumps out is the standard deviation of income - 19,136; this is a very large standard deviation and it seems like there are going to be some pretty large outliers in this column\n",
    "* Another thing to notice is that hdi is between 0 and 1 - this makes sense given the way HDI is calculated as shown below\n",
    "    * Note - We will see some correlation between HDI and income as income is included in the HDI calculation. However, the HDi includes two other variables, so HDI is still valid to use to compare with income and life expectancy"
   ]
  },
  {
   "cell_type": "markdown",
   "metadata": {},
   "source": [
    "> $HDI = (I_{Health} * I_{Education} * I_{Income})^1/3$ <br><br>\n",
    "> More information __[here](http://hdr.undp.org/en/content/human-development-index-hdi)__"
   ]
  },
  {
   "cell_type": "code",
   "execution_count": 13,
   "metadata": {
    "scrolled": true
   },
   "outputs": [
    {
     "data": {
      "text/html": [
       "<div>\n",
       "<style scoped>\n",
       "    .dataframe tbody tr th:only-of-type {\n",
       "        vertical-align: middle;\n",
       "    }\n",
       "\n",
       "    .dataframe tbody tr th {\n",
       "        vertical-align: top;\n",
       "    }\n",
       "\n",
       "    .dataframe thead th {\n",
       "        text-align: right;\n",
       "    }\n",
       "</style>\n",
       "<table border=\"1\" class=\"dataframe\">\n",
       "  <thead>\n",
       "    <tr style=\"text-align: right;\">\n",
       "      <th></th>\n",
       "      <th>income</th>\n",
       "      <th>hdi</th>\n",
       "      <th>life_expect</th>\n",
       "      <th>wb_code</th>\n",
       "      <th>four_regions_code</th>\n",
       "      <th>eight_regions_code</th>\n",
       "    </tr>\n",
       "  </thead>\n",
       "  <tbody>\n",
       "    <tr>\n",
       "      <th>count</th>\n",
       "      <td>184.000000</td>\n",
       "      <td>184.000000</td>\n",
       "      <td>184.000000</td>\n",
       "      <td>184.000000</td>\n",
       "      <td>184.000000</td>\n",
       "      <td>184.000000</td>\n",
       "    </tr>\n",
       "    <tr>\n",
       "      <th>mean</th>\n",
       "      <td>17427.918478</td>\n",
       "      <td>0.692935</td>\n",
       "      <td>72.059783</td>\n",
       "      <td>1.679348</td>\n",
       "      <td>1.483696</td>\n",
       "      <td>3.538043</td>\n",
       "    </tr>\n",
       "    <tr>\n",
       "      <th>std</th>\n",
       "      <td>19136.086742</td>\n",
       "      <td>0.155778</td>\n",
       "      <td>7.586421</td>\n",
       "      <td>1.045630</td>\n",
       "      <td>1.149842</td>\n",
       "      <td>2.204979</td>\n",
       "    </tr>\n",
       "    <tr>\n",
       "      <th>min</th>\n",
       "      <td>626.000000</td>\n",
       "      <td>0.400000</td>\n",
       "      <td>50.000000</td>\n",
       "      <td>0.000000</td>\n",
       "      <td>0.000000</td>\n",
       "      <td>0.000000</td>\n",
       "    </tr>\n",
       "    <tr>\n",
       "      <th>25%</th>\n",
       "      <td>3290.000000</td>\n",
       "      <td>0.600000</td>\n",
       "      <td>66.000000</td>\n",
       "      <td>1.000000</td>\n",
       "      <td>0.000000</td>\n",
       "      <td>1.000000</td>\n",
       "    </tr>\n",
       "    <tr>\n",
       "      <th>50%</th>\n",
       "      <td>10950.000000</td>\n",
       "      <td>0.700000</td>\n",
       "      <td>73.500000</td>\n",
       "      <td>2.000000</td>\n",
       "      <td>2.000000</td>\n",
       "      <td>4.000000</td>\n",
       "    </tr>\n",
       "    <tr>\n",
       "      <th>75%</th>\n",
       "      <td>24275.000000</td>\n",
       "      <td>0.800000</td>\n",
       "      <td>78.000000</td>\n",
       "      <td>3.000000</td>\n",
       "      <td>2.000000</td>\n",
       "      <td>5.000000</td>\n",
       "    </tr>\n",
       "    <tr>\n",
       "      <th>max</th>\n",
       "      <td>120000.000000</td>\n",
       "      <td>0.900000</td>\n",
       "      <td>84.000000</td>\n",
       "      <td>3.000000</td>\n",
       "      <td>3.000000</td>\n",
       "      <td>7.000000</td>\n",
       "    </tr>\n",
       "  </tbody>\n",
       "</table>\n",
       "</div>"
      ],
      "text/plain": [
       "              income         hdi  life_expect     wb_code  four_regions_code  \\\n",
       "count     184.000000  184.000000   184.000000  184.000000         184.000000   \n",
       "mean    17427.918478    0.692935    72.059783    1.679348           1.483696   \n",
       "std     19136.086742    0.155778     7.586421    1.045630           1.149842   \n",
       "min       626.000000    0.400000    50.000000    0.000000           0.000000   \n",
       "25%      3290.000000    0.600000    66.000000    1.000000           0.000000   \n",
       "50%     10950.000000    0.700000    73.500000    2.000000           2.000000   \n",
       "75%     24275.000000    0.800000    78.000000    3.000000           2.000000   \n",
       "max    120000.000000    0.900000    84.000000    3.000000           3.000000   \n",
       "\n",
       "       eight_regions_code  \n",
       "count          184.000000  \n",
       "mean             3.538043  \n",
       "std              2.204979  \n",
       "min              0.000000  \n",
       "25%              1.000000  \n",
       "50%              4.000000  \n",
       "75%              5.000000  \n",
       "max              7.000000  "
      ]
     },
     "execution_count": 13,
     "metadata": {},
     "output_type": "execute_result"
    }
   ],
   "source": [
    "df.describe()"
   ]
  },
  {
   "cell_type": "markdown",
   "metadata": {},
   "source": [
    "##### Let's also look at the correlation between the different measures, using the corr function"
   ]
  },
  {
   "cell_type": "markdown",
   "metadata": {},
   "source": [
    "* From this, we can see that HDI and income are pretty highly correlated, as we expected\n",
    "* It is also interesting to note that wb_code and income are correlated, at a pretty high value, so we can use wb_code to categorize income without much concern of inaccuracies\n",
    "    * Note - it is important to keep in mind that the World Bank Income groups are based on GNI for an economy, and our income measure is based on GDP\n",
    "    * More information on the World Bank Income groups can be found __[here](https://datahelpdesk.worldbank.org/knowledgebase/articles/906519-world-bank-country-and-lending-groups)__\n",
    "* Life expectancy and income do seem to be positively correlated, which is not unexpected\n",
    "* Four regions and eight regions are highly correlated, which makes sense\n",
    "* It is interesting to note that both region categories are correlated with income, life expectancy, and HDI\n",
    "    * We cannot say if the correlation is positive or negative, as the numbers in these region columns are randomly applied\n",
    "    * But this is a hint that we should look into how region affects each of these measures"
   ]
  },
  {
   "cell_type": "code",
   "execution_count": 14,
   "metadata": {},
   "outputs": [
    {
     "data": {
      "text/html": [
       "<div>\n",
       "<style scoped>\n",
       "    .dataframe tbody tr th:only-of-type {\n",
       "        vertical-align: middle;\n",
       "    }\n",
       "\n",
       "    .dataframe tbody tr th {\n",
       "        vertical-align: top;\n",
       "    }\n",
       "\n",
       "    .dataframe thead th {\n",
       "        text-align: right;\n",
       "    }\n",
       "</style>\n",
       "<table border=\"1\" class=\"dataframe\">\n",
       "  <thead>\n",
       "    <tr style=\"text-align: right;\">\n",
       "      <th></th>\n",
       "      <th>income</th>\n",
       "      <th>hdi</th>\n",
       "      <th>life_expect</th>\n",
       "      <th>wb_code</th>\n",
       "      <th>four_regions_code</th>\n",
       "      <th>eight_regions_code</th>\n",
       "    </tr>\n",
       "  </thead>\n",
       "  <tbody>\n",
       "    <tr>\n",
       "      <th>income</th>\n",
       "      <td>1.000000</td>\n",
       "      <td>0.733463</td>\n",
       "      <td>0.659292</td>\n",
       "      <td>0.761711</td>\n",
       "      <td>0.482817</td>\n",
       "      <td>0.492985</td>\n",
       "    </tr>\n",
       "    <tr>\n",
       "      <th>hdi</th>\n",
       "      <td>0.733463</td>\n",
       "      <td>1.000000</td>\n",
       "      <td>0.888144</td>\n",
       "      <td>0.908583</td>\n",
       "      <td>0.702548</td>\n",
       "      <td>0.677708</td>\n",
       "    </tr>\n",
       "    <tr>\n",
       "      <th>life_expect</th>\n",
       "      <td>0.659292</td>\n",
       "      <td>0.888144</td>\n",
       "      <td>1.000000</td>\n",
       "      <td>0.806335</td>\n",
       "      <td>0.646277</td>\n",
       "      <td>0.609590</td>\n",
       "    </tr>\n",
       "    <tr>\n",
       "      <th>wb_code</th>\n",
       "      <td>0.761711</td>\n",
       "      <td>0.908583</td>\n",
       "      <td>0.806335</td>\n",
       "      <td>1.000000</td>\n",
       "      <td>0.597839</td>\n",
       "      <td>0.584809</td>\n",
       "    </tr>\n",
       "    <tr>\n",
       "      <th>four_regions_code</th>\n",
       "      <td>0.482817</td>\n",
       "      <td>0.702548</td>\n",
       "      <td>0.646277</td>\n",
       "      <td>0.597839</td>\n",
       "      <td>1.000000</td>\n",
       "      <td>0.976593</td>\n",
       "    </tr>\n",
       "    <tr>\n",
       "      <th>eight_regions_code</th>\n",
       "      <td>0.492985</td>\n",
       "      <td>0.677708</td>\n",
       "      <td>0.609590</td>\n",
       "      <td>0.584809</td>\n",
       "      <td>0.976593</td>\n",
       "      <td>1.000000</td>\n",
       "    </tr>\n",
       "  </tbody>\n",
       "</table>\n",
       "</div>"
      ],
      "text/plain": [
       "                      income       hdi  life_expect   wb_code  \\\n",
       "income              1.000000  0.733463     0.659292  0.761711   \n",
       "hdi                 0.733463  1.000000     0.888144  0.908583   \n",
       "life_expect         0.659292  0.888144     1.000000  0.806335   \n",
       "wb_code             0.761711  0.908583     0.806335  1.000000   \n",
       "four_regions_code   0.482817  0.702548     0.646277  0.597839   \n",
       "eight_regions_code  0.492985  0.677708     0.609590  0.584809   \n",
       "\n",
       "                    four_regions_code  eight_regions_code  \n",
       "income                       0.482817            0.492985  \n",
       "hdi                          0.702548            0.677708  \n",
       "life_expect                  0.646277            0.609590  \n",
       "wb_code                      0.597839            0.584809  \n",
       "four_regions_code            1.000000            0.976593  \n",
       "eight_regions_code           0.976593            1.000000  "
      ]
     },
     "execution_count": 14,
     "metadata": {},
     "output_type": "execute_result"
    }
   ],
   "source": [
    "df.corr()"
   ]
  },
  {
   "cell_type": "markdown",
   "metadata": {},
   "source": [
    "<a id='eda'></a>\n",
    "## Exploratory Data Analysis\n",
    "\n",
    "Now that we have a decent idea about how are data looks and how it is correlated, we will dive into the research questions\n"
   ]
  },
  {
   "cell_type": "markdown",
   "metadata": {},
   "source": [
    "<a id='q1'></a>\n",
    "#### Question 1 - Does an increase in income correlate to an increase in life expectancy?"
   ]
  },
  {
   "cell_type": "markdown",
   "metadata": {},
   "source": [
    "* Our first step is create a swarm plot that compares the WB income groups to the life expectancy\n",
    "* We can see from this that there is clearly a strong relationship between these income groups and life expectancy\n",
    "* As the wb_code increases (0 is lowest, 3 is highest) the life expectancy also goes up"
   ]
  },
  {
   "cell_type": "code",
   "execution_count": 15,
   "metadata": {},
   "outputs": [
    {
     "data": {
      "text/plain": [
       "<matplotlib.axes._subplots.AxesSubplot at 0x181bb82e400>"
      ]
     },
     "execution_count": 15,
     "metadata": {},
     "output_type": "execute_result"
    },
    {
     "data": {
      "image/png": "[encoded data removed]",
      "text/plain": [
       "<Figure size 720x360 with 1 Axes>"
      ]
     },
     "metadata": {
      "needs_background": "light"
     },
     "output_type": "display_data"
    }
   ],
   "source": [
    "f, ax = plt.subplots(figsize = (10,5))\n",
    "\n",
    "sns.swarmplot(x=\"wb_code\", y=\"life_expect\", data=df)"
   ]
  },
  {
   "cell_type": "markdown",
   "metadata": {},
   "source": [
    "* Since we already can see a correlation, let's try plotting a linear regression and see what we get\n",
    "* We will use the income measure instead of the wb_code since there is more variation in the income\n",
    "* We will use a jointplot in Seaborn, this allows us to see both the linear regression line as well as the histograms of the measures on the top and right side\n",
    "* From this we can see even more clearly that life expectancy and income are positively correlated"
   ]
  },
  {
   "cell_type": "code",
   "execution_count": 16,
   "metadata": {},
   "outputs": [
    {
     "name": "stderr",
     "output_type": "stream",
     "text": [
      "C:\\Users\\jcsmi329\\AppData\\Local\\Continuum\\miniconda3\\lib\\site-packages\\scipy\\stats\\stats.py:1713: FutureWarning: Using a non-tuple sequence for multidimensional indexing is deprecated; use `arr[tuple(seq)]` instead of `arr[seq]`. In the future this will be interpreted as an array index, `arr[np.array(seq)]`, which will result either in an error or a different result.\n",
      "  return np.add.reduce(sorted[indexer] * weights, axis=axis) / sumval\n"
     ]
    },
    {
     "data": {
      "text/plain": [
       "(40, 90)"
      ]
     },
     "execution_count": 16,
     "metadata": {},
     "output_type": "execute_result"
    },
    {
     "data": {
      "image/png": "[encoded data removed]",
      "text/plain": [
       "<Figure size 576x576 with 3 Axes>"
      ]
     },
     "metadata": {
      "needs_background": "light"
     },
     "output_type": "display_data"
    }
   ],
   "source": [
    "sns.jointplot(x=\"income\", y=\"life_expect\", data=df, kind=\"reg\", height = 8)\n",
    "\n",
    "plt.xlim(-10000,120000)\n",
    "plt.ylim(40,90)"
   ]
  },
  {
   "cell_type": "markdown",
   "metadata": {},
   "source": [
    "* Below we have fit these two variables to a linear regression model and printed the summary\n",
    "    * This is similar to what you would see if you ran a linear regression in Excel's Data Analysis Toolpak\n",
    "* We can see that the R-squared value is .521 - this tells us that a little over half of the variation of life expectancy can be explained by the income\n",
    "* Another statistic to note is the coefficient for income - .0020 - this means that as the income increases by 1, the life expectancy value increases by .0020"
   ]
  },
  {
   "cell_type": "markdown",
   "metadata": {},
   "source": [
    "##### _From this, we can confirm that there is a positive correlation between income and life expectancy_\n",
    "\n",
    "However, it must be stated that this does not mean there is a causal relationship, and we are not looking at all of the variables that can affect life expectancy. Since the income only explains half of life expectancy, it is obvious that there is more to this equation"
   ]
  },
  {
   "cell_type": "code",
   "execution_count": 17,
   "metadata": {},
   "outputs": [
    {
     "data": {
      "text/html": [
       "<table class=\"simpletable\">\n",
       "<caption>OLS Regression Results</caption>\n",
       "<tr>\n",
       "  <th>Dep. Variable:</th>       <td>life_expect</td>   <th>  R-squared:         </th> <td>   0.521</td>\n",
       "</tr>\n",
       "<tr>\n",
       "  <th>Model:</th>                   <td>OLS</td>       <th>  Adj. R-squared:    </th> <td>   0.518</td>\n",
       "</tr>\n",
       "<tr>\n",
       "  <th>Method:</th>             <td>Least Squares</td>  <th>  F-statistic:       </th> <td>   198.7</td>\n",
       "</tr>\n",
       "<tr>\n",
       "  <th>Date:</th>             <td>Sun, 27 Jan 2019</td> <th>  Prob (F-statistic):</th> <td>4.99e-31</td>\n",
       "</tr>\n",
       "<tr>\n",
       "  <th>Time:</th>                 <td>15:25:34</td>     <th>  Log-Likelihood:    </th> <td> -981.52</td>\n",
       "</tr>\n",
       "<tr>\n",
       "  <th>No. Observations:</th>      <td>   184</td>      <th>  AIC:               </th> <td>   1965.</td>\n",
       "</tr>\n",
       "<tr>\n",
       "  <th>Df Residuals:</th>          <td>   183</td>      <th>  BIC:               </th> <td>   1968.</td>\n",
       "</tr>\n",
       "<tr>\n",
       "  <th>Df Model:</th>              <td>     1</td>      <th>                     </th>     <td> </td>   \n",
       "</tr>\n",
       "<tr>\n",
       "  <th>Covariance Type:</th>      <td>nonrobust</td>    <th>                     </th>     <td> </td>   \n",
       "</tr>\n",
       "</table>\n",
       "<table class=\"simpletable\">\n",
       "<tr>\n",
       "     <td></td>       <th>coef</th>     <th>std err</th>      <th>t</th>      <th>P>|t|</th>  <th>[0.025</th>    <th>0.975]</th>  \n",
       "</tr>\n",
       "<tr>\n",
       "  <th>income</th> <td>    0.0020</td> <td>    0.000</td> <td>   14.096</td> <td> 0.000</td> <td>    0.002</td> <td>    0.002</td>\n",
       "</tr>\n",
       "</table>\n",
       "<table class=\"simpletable\">\n",
       "<tr>\n",
       "  <th>Omnibus:</th>       <td>117.664</td> <th>  Durbin-Watson:     </th> <td>   0.706</td> \n",
       "</tr>\n",
       "<tr>\n",
       "  <th>Prob(Omnibus):</th> <td> 0.000</td>  <th>  Jarque-Bera (JB):  </th> <td> 705.420</td> \n",
       "</tr>\n",
       "<tr>\n",
       "  <th>Skew:</th>          <td>-2.484</td>  <th>  Prob(JB):          </th> <td>6.61e-154</td>\n",
       "</tr>\n",
       "<tr>\n",
       "  <th>Kurtosis:</th>      <td>11.206</td>  <th>  Cond. No.          </th> <td>    1.00</td> \n",
       "</tr>\n",
       "</table><br/><br/>Warnings:<br/>[1] Standard Errors assume that the covariance matrix of the errors is correctly specified."
      ],
      "text/plain": [
       "<class 'statsmodels.iolib.summary.Summary'>\n",
       "\"\"\"\n",
       "                            OLS Regression Results                            \n",
       "==============================================================================\n",
       "Dep. Variable:            life_expect   R-squared:                       0.521\n",
       "Model:                            OLS   Adj. R-squared:                  0.518\n",
       "Method:                 Least Squares   F-statistic:                     198.7\n",
       "Date:                Sun, 27 Jan 2019   Prob (F-statistic):           4.99e-31\n",
       "Time:                        15:25:34   Log-Likelihood:                -981.52\n",
       "No. Observations:                 184   AIC:                             1965.\n",
       "Df Residuals:                     183   BIC:                             1968.\n",
       "Df Model:                           1                                         \n",
       "Covariance Type:            nonrobust                                         \n",
       "==============================================================================\n",
       "                 coef    std err          t      P>|t|      [0.025      0.975]\n",
       "------------------------------------------------------------------------------\n",
       "income         0.0020      0.000     14.096      0.000       0.002       0.002\n",
       "==============================================================================\n",
       "Omnibus:                      117.664   Durbin-Watson:                   0.706\n",
       "Prob(Omnibus):                  0.000   Jarque-Bera (JB):              705.420\n",
       "Skew:                          -2.484   Prob(JB):                    6.61e-154\n",
       "Kurtosis:                      11.206   Cond. No.                         1.00\n",
       "==============================================================================\n",
       "\n",
       "Warnings:\n",
       "[1] Standard Errors assume that the covariance matrix of the errors is correctly specified.\n",
       "\"\"\""
      ]
     },
     "execution_count": 17,
     "metadata": {},
     "output_type": "execute_result"
    }
   ],
   "source": [
    "## Based on code found here https://towardsdatascience.com/simple-and-multiple-linear-regression-in-python-c928425168f9\n",
    "\n",
    "X = df[\"income\"]\n",
    "y = df[\"life_expect\"]\n",
    "\n",
    "# Note the difference in argument order\n",
    "model = sm.OLS(y, X).fit()\n",
    "predictions = model.predict(X) # make the predictions by the model\n",
    "\n",
    "# Print out the statistics\n",
    "model.summary()"
   ]
  },
  {
   "cell_type": "markdown",
   "metadata": {},
   "source": [
    "<a id='q2'></a>\n",
    "#### Question 2 - Does a country's region have an impact on the correlation of income and life expectancy?"
   ]
  },
  {
   "cell_type": "markdown",
   "metadata": {},
   "source": [
    "* Again we use a swarm plot to compare income (wb_code) to life expectancy\n",
    "* This time, we will use the hue parameter to color the dots based on the hues of the four regions value\n",
    "* We can see that Africa (blue) comprises most of the first wb_code, but we really can't see much more affect of the regions beyond that\n",
    "* Let's try another way of looking at this"
   ]
  },
  {
   "cell_type": "code",
   "execution_count": 18,
   "metadata": {},
   "outputs": [
    {
     "data": {
      "text/plain": [
       "<matplotlib.axes._subplots.AxesSubplot at 0x181bbbf4d30>"
      ]
     },
     "execution_count": 18,
     "metadata": {},
     "output_type": "execute_result"
    },
    {
     "data": {
      "image/png": "[encoded data removed]",
      "text/plain": [
       "<Figure size 720x360 with 1 Axes>"
      ]
     },
     "metadata": {
      "needs_background": "light"
     },
     "output_type": "display_data"
    }
   ],
   "source": [
    "f, ax = plt.subplots(figsize = (10,5))\n",
    "\n",
    "sns.swarmplot(x=\"wb_code\", y=\"life_expect\", data=df, hue = \"four_regions\")"
   ]
  },
  {
   "cell_type": "markdown",
   "metadata": {},
   "source": [
    "* To compare regions side by side, we will use the Seaborn FacetGrid to plot out the linear regression of income to life expectancy, for each region independently\n",
    "* From this, it looks like the linear regression line for Africa is the most positively correlated, although the income increase and life expectancy increase both stop much sooner than in the other plots\n",
    "* Let's see if we can get some statistics to provide more clarity"
   ]
  },
  {
   "cell_type": "code",
   "execution_count": 19,
   "metadata": {},
   "outputs": [
    {
     "data": {
      "text/plain": [
       "(-5000, 100000)"
      ]
     },
     "execution_count": 19,
     "metadata": {},
     "output_type": "execute_result"
    },
    {
     "data": {
      "image/png": "[encoded data removed]",
      "text/plain": [
       "<Figure size 872x216 with 4 Axes>"
      ]
     },
     "metadata": {
      "needs_background": "light"
     },
     "output_type": "display_data"
    }
   ],
   "source": [
    "g = sns.FacetGrid(df, col=\"four_regions\")\n",
    "g.map(sns.regplot, \"income\", \"life_expect\")\n",
    "g.add_legend()\n",
    "\n",
    "plt.xlim(-5000, 100000)"
   ]
  },
  {
   "cell_type": "markdown",
   "metadata": {},
   "source": [
    "* Before we check our linear regression model, we have to change the dataframe slightly\n",
    "* In order to have each region be included as a separate variable in the model, we need to create a column for each region that will be either 1 or 0\n",
    "* To do this we use the get_dummies method and join this resulting dataset to the df dataset that we've been using"
   ]
  },
  {
   "cell_type": "code",
   "execution_count": 20,
   "metadata": {},
   "outputs": [],
   "source": [
    "df_dummies = df.four_regions.str.get_dummies()\n",
    "\n",
    "df_dummies = pd.merge(df, df_dummies, left_index=True, right_index=True)"
   ]
  },
  {
   "cell_type": "markdown",
   "metadata": {},
   "source": [
    "* We can see that the R-squared value is .675 - this is higher than the R-squared value of just income by itself which tells us that the region and income combined have a higher correlation with life expectancy\n",
    "* The coefficients need to be read differently now that we are passing in multiple variables\n",
    "    * The coefficient of income is now only .0002 - this tells us that regardless of the region, income increasing by 1 will increase life expectancy by .0002\n",
    "        * This makes sense, as we can tell that life expectancy increases more in some regions than others\n",
    "    * The coefficients of the regions (rounded to whole numbers for simplicity here) are 63, 72, 73, and 69 for Africa, Americas, Europe, and Asia respectively\n",
    "    * This explains what we saw in the above plots - in the Americas and Europe, income more positively correlates to life expectancy. However in Africa and Asia, it isn't as simple - more income is associated with a higher life expectancy, but not as much life expectancy"
   ]
  },
  {
   "cell_type": "markdown",
   "metadata": {},
   "source": [
    "##### _From this, we can confirm that the region of the world that a country is in does have an impact on the correlation of it's citizens income and life expectancy_\n",
    "\n",
    "The same disclaimer as above applies, we cannot be certain why this affect occurs, and there is likely variables that we are missing here"
   ]
  },
  {
   "cell_type": "code",
   "execution_count": 21,
   "metadata": {},
   "outputs": [
    {
     "data": {
      "text/html": [
       "<table class=\"simpletable\">\n",
       "<caption>OLS Regression Results</caption>\n",
       "<tr>\n",
       "  <th>Dep. Variable:</th>       <td>life_expect</td>   <th>  R-squared:         </th> <td>   0.675</td>\n",
       "</tr>\n",
       "<tr>\n",
       "  <th>Model:</th>                   <td>OLS</td>       <th>  Adj. R-squared:    </th> <td>   0.667</td>\n",
       "</tr>\n",
       "<tr>\n",
       "  <th>Method:</th>             <td>Least Squares</td>  <th>  F-statistic:       </th> <td>   92.80</td>\n",
       "</tr>\n",
       "<tr>\n",
       "  <th>Date:</th>             <td>Sun, 27 Jan 2019</td> <th>  Prob (F-statistic):</th> <td>1.39e-42</td>\n",
       "</tr>\n",
       "<tr>\n",
       "  <th>Time:</th>                 <td>15:25:35</td>     <th>  Log-Likelihood:    </th> <td> -530.13</td>\n",
       "</tr>\n",
       "<tr>\n",
       "  <th>No. Observations:</th>      <td>   184</td>      <th>  AIC:               </th> <td>   1070.</td>\n",
       "</tr>\n",
       "<tr>\n",
       "  <th>Df Residuals:</th>          <td>   179</td>      <th>  BIC:               </th> <td>   1086.</td>\n",
       "</tr>\n",
       "<tr>\n",
       "  <th>Df Model:</th>              <td>     4</td>      <th>                     </th>     <td> </td>   \n",
       "</tr>\n",
       "<tr>\n",
       "  <th>Covariance Type:</th>      <td>nonrobust</td>    <th>                     </th>     <td> </td>   \n",
       "</tr>\n",
       "</table>\n",
       "<table class=\"simpletable\">\n",
       "<tr>\n",
       "      <td></td>        <th>coef</th>     <th>std err</th>      <th>t</th>      <th>P>|t|</th>  <th>[0.025</th>    <th>0.975]</th>  \n",
       "</tr>\n",
       "<tr>\n",
       "  <th>income</th>   <td>    0.0002</td> <td> 1.94e-05</td> <td>    8.852</td> <td> 0.000</td> <td>    0.000</td> <td>    0.000</td>\n",
       "</tr>\n",
       "<tr>\n",
       "  <th>africa</th>   <td>   63.1000</td> <td>    0.610</td> <td>  103.460</td> <td> 0.000</td> <td>   61.896</td> <td>   64.303</td>\n",
       "</tr>\n",
       "<tr>\n",
       "  <th>americas</th> <td>   72.5817</td> <td>    0.807</td> <td>   89.962</td> <td> 0.000</td> <td>   70.990</td> <td>   74.174</td>\n",
       "</tr>\n",
       "<tr>\n",
       "  <th>europe</th>   <td>   73.1762</td> <td>    0.881</td> <td>   83.034</td> <td> 0.000</td> <td>   71.437</td> <td>   74.915</td>\n",
       "</tr>\n",
       "<tr>\n",
       "  <th>asia</th>     <td>   69.3148</td> <td>    0.717</td> <td>   96.706</td> <td> 0.000</td> <td>   67.900</td> <td>   70.729</td>\n",
       "</tr>\n",
       "</table>\n",
       "<table class=\"simpletable\">\n",
       "<tr>\n",
       "  <th>Omnibus:</th>       <td> 4.318</td> <th>  Durbin-Watson:     </th> <td>   1.868</td>\n",
       "</tr>\n",
       "<tr>\n",
       "  <th>Prob(Omnibus):</th> <td> 0.115</td> <th>  Jarque-Bera (JB):  </th> <td>   5.227</td>\n",
       "</tr>\n",
       "<tr>\n",
       "  <th>Skew:</th>          <td>-0.114</td> <th>  Prob(JB):          </th> <td>  0.0733</td>\n",
       "</tr>\n",
       "<tr>\n",
       "  <th>Kurtosis:</th>      <td> 3.794</td> <th>  Cond. No.          </th> <td>8.14e+04</td>\n",
       "</tr>\n",
       "</table><br/><br/>Warnings:<br/>[1] Standard Errors assume that the covariance matrix of the errors is correctly specified.<br/>[2] The condition number is large, 8.14e+04. This might indicate that there are<br/>strong multicollinearity or other numerical problems."
      ],
      "text/plain": [
       "<class 'statsmodels.iolib.summary.Summary'>\n",
       "\"\"\"\n",
       "                            OLS Regression Results                            \n",
       "==============================================================================\n",
       "Dep. Variable:            life_expect   R-squared:                       0.675\n",
       "Model:                            OLS   Adj. R-squared:                  0.667\n",
       "Method:                 Least Squares   F-statistic:                     92.80\n",
       "Date:                Sun, 27 Jan 2019   Prob (F-statistic):           1.39e-42\n",
       "Time:                        15:25:35   Log-Likelihood:                -530.13\n",
       "No. Observations:                 184   AIC:                             1070.\n",
       "Df Residuals:                     179   BIC:                             1086.\n",
       "Df Model:                           4                                         \n",
       "Covariance Type:            nonrobust                                         \n",
       "==============================================================================\n",
       "                 coef    std err          t      P>|t|      [0.025      0.975]\n",
       "------------------------------------------------------------------------------\n",
       "income         0.0002   1.94e-05      8.852      0.000       0.000       0.000\n",
       "africa        63.1000      0.610    103.460      0.000      61.896      64.303\n",
       "americas      72.5817      0.807     89.962      0.000      70.990      74.174\n",
       "europe        73.1762      0.881     83.034      0.000      71.437      74.915\n",
       "asia          69.3148      0.717     96.706      0.000      67.900      70.729\n",
       "==============================================================================\n",
       "Omnibus:                        4.318   Durbin-Watson:                   1.868\n",
       "Prob(Omnibus):                  0.115   Jarque-Bera (JB):                5.227\n",
       "Skew:                          -0.114   Prob(JB):                       0.0733\n",
       "Kurtosis:                       3.794   Cond. No.                     8.14e+04\n",
       "==============================================================================\n",
       "\n",
       "Warnings:\n",
       "[1] Standard Errors assume that the covariance matrix of the errors is correctly specified.\n",
       "[2] The condition number is large, 8.14e+04. This might indicate that there are\n",
       "strong multicollinearity or other numerical problems.\n",
       "\"\"\""
      ]
     },
     "execution_count": 21,
     "metadata": {},
     "output_type": "execute_result"
    }
   ],
   "source": [
    "## Based on code found here https://towardsdatascience.com/simple-and-multiple-linear-regression-in-python-c928425168f9\n",
    "\n",
    "X = df_dummies[[\"income\", \"africa\",\"americas\",\"europe\",\"asia\"]]\n",
    "y = df_dummies[\"life_expect\"]\n",
    "\n",
    "# Note the difference in argument order\n",
    "model = sm.OLS(y, X).fit()\n",
    "predictions = model.predict(X) # make the predictions by the model\n",
    "\n",
    "# Print out the statistics\n",
    "model.summary()"
   ]
  },
  {
   "cell_type": "markdown",
   "metadata": {},
   "source": [
    "<a id='q3'></a>\n",
    "#### Question 3 -  Does a country's Human Development Index score have an impact on the correlation of income and life expectancy?"
   ]
  },
  {
   "cell_type": "markdown",
   "metadata": {},
   "source": [
    "* The first thing we will do to investigate if the HDI score has an affect on the correlatoin of income and life expectancy is attempt to plot this in a swarm plot, similarly to how we did this previously\n",
    "* As we can see below, we are using the hue to show the HDI score, and we are showing the relationship between World Back income groups and life expectancy\n",
    "* There doesn't seem to be any real trend here of HDI score affecting the relationship that we have already seen between income and life expectancy"
   ]
  },
  {
   "cell_type": "code",
   "execution_count": 22,
   "metadata": {},
   "outputs": [
    {
     "data": {
      "text/plain": [
       "<matplotlib.legend.Legend at 0x181bca8c9b0>"
      ]
     },
     "execution_count": 22,
     "metadata": {},
     "output_type": "execute_result"
    },
    {
     "data": {
      "image/png": "[encoded data removed]",
      "text/plain": [
       "<Figure size 720x360 with 1 Axes>"
      ]
     },
     "metadata": {
      "needs_background": "light"
     },
     "output_type": "display_data"
    }
   ],
   "source": [
    "## How to order lables from here:\n",
    "## https://stackoverflow.com/questions/22263807/how-is-order-of-items-in-matplotlib-legend-determined\n",
    "\n",
    "f, ax = plt.subplots(figsize = (10,5))\n",
    "\n",
    "sns.swarmplot(x=\"wb_code\", y=\"life_expect\", data=df, hue = \"hdi\")\n",
    "\n",
    "handles, labels = ax.get_legend_handles_labels()\n",
    "\n",
    "labels, handles = zip(*sorted(zip(labels, handles), key=lambda t: t[0], reverse = True))\n",
    "\n",
    "ax.legend(handles, labels)"
   ]
  },
  {
   "cell_type": "markdown",
   "metadata": {},
   "source": [
    "* We will create a new dataframe that creates dummy values for the HDI score so that we can check the linear regression stats on this as well\n",
    "* We have to take an extra step to convert the numeric type to a string so we can create dummy values"
   ]
  },
  {
   "cell_type": "code",
   "execution_count": 23,
   "metadata": {},
   "outputs": [],
   "source": [
    "df_dummies_2 = df.copy()\n",
    "\n",
    "df_dummies_2['hdi'] = df_dummies_2['hdi'].apply(str)\n",
    "\n",
    "df_dummies_2 = df_dummies_2.hdi.str.get_dummies()\n",
    "\n",
    "df_dummies_2 = pd.merge(df, df_dummies_2, left_index=True, right_index=True)"
   ]
  },
  {
   "cell_type": "markdown",
   "metadata": {},
   "source": [
    "* The below linear regression model seems to show that as the HDI score increases, the life expectancy increases\n",
    "* We saw the same type of relationship with income, where income increasing had a correlation with life expectancy increasing\n",
    "* It doesn't seem like there is any obvious affect of HDI on the correlation between life expectancy and income\n",
    "* In fact, in retrospect, this question seems almost redundant, as income is part of the HDI score"
   ]
  },
  {
   "cell_type": "markdown",
   "metadata": {},
   "source": [
    "##### _From this, we can not confirm that the HDI score of a country has any impact on the correlation of it's citizens income and life expectancy_"
   ]
  },
  {
   "cell_type": "code",
   "execution_count": 24,
   "metadata": {},
   "outputs": [
    {
     "data": {
      "text/html": [
       "<table class=\"simpletable\">\n",
       "<caption>OLS Regression Results</caption>\n",
       "<tr>\n",
       "  <th>Dep. Variable:</th>       <td>life_expect</td>   <th>  R-squared:         </th> <td>   0.794</td>\n",
       "</tr>\n",
       "<tr>\n",
       "  <th>Model:</th>                   <td>OLS</td>       <th>  Adj. R-squared:    </th> <td>   0.788</td>\n",
       "</tr>\n",
       "<tr>\n",
       "  <th>Method:</th>             <td>Least Squares</td>  <th>  F-statistic:       </th> <td>   136.9</td>\n",
       "</tr>\n",
       "<tr>\n",
       "  <th>Date:</th>             <td>Sun, 27 Jan 2019</td> <th>  Prob (F-statistic):</th> <td>4.58e-59</td>\n",
       "</tr>\n",
       "<tr>\n",
       "  <th>Time:</th>                 <td>15:25:36</td>     <th>  Log-Likelihood:    </th> <td> -488.24</td>\n",
       "</tr>\n",
       "<tr>\n",
       "  <th>No. Observations:</th>      <td>   184</td>      <th>  AIC:               </th> <td>   988.5</td>\n",
       "</tr>\n",
       "<tr>\n",
       "  <th>Df Residuals:</th>          <td>   178</td>      <th>  BIC:               </th> <td>   1008.</td>\n",
       "</tr>\n",
       "<tr>\n",
       "  <th>Df Model:</th>              <td>     5</td>      <th>                     </th>     <td> </td>   \n",
       "</tr>\n",
       "<tr>\n",
       "  <th>Covariance Type:</th>      <td>nonrobust</td>    <th>                     </th>     <td> </td>   \n",
       "</tr>\n",
       "</table>\n",
       "<table class=\"simpletable\">\n",
       "<tr>\n",
       "   <td></td>      <th>coef</th>     <th>std err</th>      <th>t</th>      <th>P>|t|</th>  <th>[0.025</th>    <th>0.975]</th>  \n",
       "</tr>\n",
       "<tr>\n",
       "  <th>0.4</th> <td>   59.8667</td> <td>    0.902</td> <td>   66.355</td> <td> 0.000</td> <td>   58.086</td> <td>   61.647</td>\n",
       "</tr>\n",
       "<tr>\n",
       "  <th>0.5</th> <td>   62.8846</td> <td>    0.685</td> <td>   91.765</td> <td> 0.000</td> <td>   61.532</td> <td>   64.237</td>\n",
       "</tr>\n",
       "<tr>\n",
       "  <th>0.6</th> <td>   68.4444</td> <td>    0.672</td> <td>  101.780</td> <td> 0.000</td> <td>   67.117</td> <td>   69.771</td>\n",
       "</tr>\n",
       "<tr>\n",
       "  <th>0.7</th> <td>   72.8974</td> <td>    0.560</td> <td>  130.283</td> <td> 0.000</td> <td>   71.793</td> <td>   74.002</td>\n",
       "</tr>\n",
       "<tr>\n",
       "  <th>0.8</th> <td>   76.1395</td> <td>    0.533</td> <td>  142.885</td> <td> 0.000</td> <td>   75.088</td> <td>   77.191</td>\n",
       "</tr>\n",
       "<tr>\n",
       "  <th>0.9</th> <td>   81.2059</td> <td>    0.599</td> <td>  135.510</td> <td> 0.000</td> <td>   80.023</td> <td>   82.388</td>\n",
       "</tr>\n",
       "</table>\n",
       "<table class=\"simpletable\">\n",
       "<tr>\n",
       "  <th>Omnibus:</th>       <td>17.448</td> <th>  Durbin-Watson:     </th> <td>   1.935</td>\n",
       "</tr>\n",
       "<tr>\n",
       "  <th>Prob(Omnibus):</th> <td> 0.000</td> <th>  Jarque-Bera (JB):  </th> <td>  24.338</td>\n",
       "</tr>\n",
       "<tr>\n",
       "  <th>Skew:</th>          <td>-0.582</td> <th>  Prob(JB):          </th> <td>5.19e-06</td>\n",
       "</tr>\n",
       "<tr>\n",
       "  <th>Kurtosis:</th>      <td> 4.348</td> <th>  Cond. No.          </th> <td>    1.69</td>\n",
       "</tr>\n",
       "</table><br/><br/>Warnings:<br/>[1] Standard Errors assume that the covariance matrix of the errors is correctly specified."
      ],
      "text/plain": [
       "<class 'statsmodels.iolib.summary.Summary'>\n",
       "\"\"\"\n",
       "                            OLS Regression Results                            \n",
       "==============================================================================\n",
       "Dep. Variable:            life_expect   R-squared:                       0.794\n",
       "Model:                            OLS   Adj. R-squared:                  0.788\n",
       "Method:                 Least Squares   F-statistic:                     136.9\n",
       "Date:                Sun, 27 Jan 2019   Prob (F-statistic):           4.58e-59\n",
       "Time:                        15:25:36   Log-Likelihood:                -488.24\n",
       "No. Observations:                 184   AIC:                             988.5\n",
       "Df Residuals:                     178   BIC:                             1008.\n",
       "Df Model:                           5                                         \n",
       "Covariance Type:            nonrobust                                         \n",
       "==============================================================================\n",
       "                 coef    std err          t      P>|t|      [0.025      0.975]\n",
       "------------------------------------------------------------------------------\n",
       "0.4           59.8667      0.902     66.355      0.000      58.086      61.647\n",
       "0.5           62.8846      0.685     91.765      0.000      61.532      64.237\n",
       "0.6           68.4444      0.672    101.780      0.000      67.117      69.771\n",
       "0.7           72.8974      0.560    130.283      0.000      71.793      74.002\n",
       "0.8           76.1395      0.533    142.885      0.000      75.088      77.191\n",
       "0.9           81.2059      0.599    135.510      0.000      80.023      82.388\n",
       "==============================================================================\n",
       "Omnibus:                       17.448   Durbin-Watson:                   1.935\n",
       "Prob(Omnibus):                  0.000   Jarque-Bera (JB):               24.338\n",
       "Skew:                          -0.582   Prob(JB):                     5.19e-06\n",
       "Kurtosis:                       4.348   Cond. No.                         1.69\n",
       "==============================================================================\n",
       "\n",
       "Warnings:\n",
       "[1] Standard Errors assume that the covariance matrix of the errors is correctly specified.\n",
       "\"\"\""
      ]
     },
     "execution_count": 24,
     "metadata": {},
     "output_type": "execute_result"
    }
   ],
   "source": [
    "## Based on code found here https://towardsdatascience.com/simple-and-multiple-linear-regression-in-python-c928425168f9\n",
    "\n",
    "X = df_dummies_2[[\"0.4\",\"0.5\",\"0.6\",\"0.7\",\"0.8\",\"0.9\"]]\n",
    "y = df_dummies_2[\"life_expect\"]\n",
    "\n",
    "# Note the difference in argument order\n",
    "model = sm.OLS(y, X).fit()\n",
    "predictions = model.predict(X) # make the predictions by the model\n",
    "\n",
    "# Print out the statistics\n",
    "model.summary()"
   ]
  },
  {
   "cell_type": "markdown",
   "metadata": {},
   "source": [
    "<a id='conclusions'></a>\n",
    "## Conclusions\n",
    "\n",
    "We have now investigated the relationships between income, region, and HDI score and how these impact life expectancy. We used data from Gapminder to plot out the relationships between income and life expectancy, as well as income and life expectancy by region. We also tried to find if there was a country's HDI score had any affect on the link between income and life expectancy.\n",
    "\n",
    "We found that there is a positive correlation between income and life expectancy. As income increases, so does life expectancy. We also found that the amount of correlation was different across the four regions of the world. The Americas and Europe had a higher correlation than Africa and Asia. This makes sense, as there are more developing countries in Africa and Asia. Futures investigations may want to break down these four regions into smaller regions to see if this has any impact on the correlation.\n",
    "\n",
    "We attempted to see if HDI score had an affect on income and life expectancy. These results were inconclusive, but it does not seem that there is any affect due to HDI. This makes sense, as income is one of the three factors that go into the HDI score. In retrospect, we should have used another measure instead of HDI.\n",
    "\n",
    "We did use linear regression models to determine R-squared values and coefficients of variables. However, this is the extent of our statistical analysis. We did not complete any statistical tests, and we certainly cannot say that there is any causation, only that there is correlation."
   ]
  },
  {
   "cell_type": "markdown",
   "metadata": {},
   "source": [
    "*Note - in general the plots in this notebook do not have sources attributed to them as to where I learned the specific technique or code. I completed two Pluralsight courses \"Visualizing Statistical Data using Seaborn\" and \"Building Data Visualizations Using Matpotlib\" prior to completing this assignment, to gain more understanding in plotting data in Python. Unless otherwise specified, the techniques I used came from these courses.*"
   ]
  }
 ],
 "metadata": {
  "kernelspec": {
   "display_name": "Python 3",
   "language": "python",
   "name": "python3"
  },
  "language_info": {
   "codemirror_mode": {
    "name": "ipython",
    "version": 3
   },
   "file_extension": ".py",
   "mimetype": "text/x-python",
   "name": "python",
   "nbconvert_exporter": "python",
   "pygments_lexer": "ipython3",
   "version": "3.7.0"
  }
 },
 "nbformat": 4,
 "nbformat_minor": 2
}
